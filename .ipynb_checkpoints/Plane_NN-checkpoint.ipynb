{
 "cells": [
  {
   "cell_type": "code",
   "execution_count": 2,
   "metadata": {},
   "outputs": [
    {
     "name": "stdout",
     "output_type": "stream",
     "text": [
      "Tensdorflow/Keras: 2.9.0\n"
     ]
    }
   ],
   "source": [
    "from tensorflow import keras\n",
    "print('Tensdorflow/Keras: %s' % keras.__version__)"
   ]
  },
  {
   "cell_type": "code",
   "execution_count": 3,
   "metadata": {},
   "outputs": [],
   "source": [
    "from keras.models import Sequential #For creating stack of layers\n",
    "from keras import Input\n",
    "from keras.layers import Dense #for creating densly-connected NN layers"
   ]
  },
  {
   "cell_type": "markdown",
   "metadata": {},
   "source": [
    "Data manipulation"
   ]
  },
  {
   "cell_type": "code",
   "execution_count": 4,
   "metadata": {},
   "outputs": [
    {
     "name": "stdout",
     "output_type": "stream",
     "text": [
      "pandas: 1.4.3\n",
      "numpy: 1.23.1\n"
     ]
    }
   ],
   "source": [
    "import pandas as pd # for data manipulation\n",
    "print('pandas: %s' % pd.__version__) # print version\n",
    "import numpy as np # for data manipulation\n",
    "print('numpy: %s' % np.__version__) # print version"
   ]
  },
  {
   "cell_type": "code",
   "execution_count": 5,
   "metadata": {},
   "outputs": [
    {
     "name": "stdout",
     "output_type": "stream",
     "text": [
      "sklearn: 1.1.1\n"
     ]
    }
   ],
   "source": [
    "import sklearn # for model evaluation\n",
    "print('sklearn: %s' % sklearn.__version__) # print version\n",
    "from sklearn.model_selection import train_test_split # for splitting data into train and test samples\n",
    "from sklearn.metrics import classification_report # for model evaluation metrics"
   ]
  },
  {
   "cell_type": "code",
   "execution_count": 7,
   "metadata": {},
   "outputs": [
    {
     "name": "stdout",
     "output_type": "stream",
     "text": [
      "plotly: 5.9.0\n"
     ]
    }
   ],
   "source": [
    "import plotly \n",
    "import plotly.express as px\n",
    "import plotly.graph_objects as go\n",
    "print('plotly: %s' % plotly.__version__) # print version"
   ]
  },
  {
   "cell_type": "markdown",
   "metadata": {},
   "source": [
    "### imprort csv file with outputs"
   ]
  },
  {
   "cell_type": "code",
   "execution_count": 75,
   "metadata": {},
   "outputs": [],
   "source": [
    "outputs = pd.read_csv('PythonScripts/outputs.csv', encoding = 'utf-8')\n",
    "outputs = outputs.reset_index()"
   ]
  },
  {
   "cell_type": "markdown",
   "metadata": {},
   "source": [
    "This loop takes elemexnt with index **start** to element with index **end** and inserts the in a new row, adds the x+21 value in the outputs array"
   ]
  },
  {
   "cell_type": "code",
   "execution_count": 80,
   "metadata": {},
   "outputs": [
    {
     "ename": "IndentationError",
     "evalue": "expected an indented block after 'for' statement on line 16 (1222658900.py, line 22)",
     "output_type": "error",
     "traceback": [
      "\u001b[1;36m  Input \u001b[1;32mIn [80]\u001b[1;36m\u001b[0m\n\u001b[1;33m    print('---------------------')\u001b[0m\n\u001b[1;37m    ^\u001b[0m\n\u001b[1;31mIndentationError\u001b[0m\u001b[1;31m:\u001b[0m expected an indented block after 'for' statement on line 16\n"
     ]
    }
   ],
   "source": [
    "#create input and output arrays\n",
    "Inputs=[]\n",
    "Outputs=[]\n",
    "\n",
    "\n",
    "start = 0\n",
    "end = 20\n",
    "\n",
    "\n",
    "outp = pd.DataFrame()\n",
    "\n",
    "\n",
    "\n",
    "\n",
    "for index,rows in outputs.iterrows():\n",
    "    for x in range(start,end):\n",
    "        #get the x th element in the dataframe\n",
    "        #print((outputs.loc[x])[1])\n",
    "        pass\n",
    "        \n",
    "    #curr item\n",
    "    #print('---------------------')\n",
    "    start+=1\n",
    "    end+=1\n",
    "    "
   ]
  },
  {
   "cell_type": "code",
   "execution_count": 96,
   "metadata": {},
   "outputs": [],
   "source": [
    "inp = pd.DataFrame()\n",
    "inp['0'] = []\n",
    "inp['1'] = []\n",
    "inp['2'] = []\n",
    "inp['3'] = []\n",
    "inp['4'] = []\n",
    "inp['5'] = []\n",
    "inp['6'] = []\n",
    "inp['7'] = []\n",
    "inp['8'] = []\n",
    "inp['9'] = []\n",
    "inp['10'] = []\n",
    "inp['11'] = []\n",
    "inp['12'] = []\n",
    "inp['13'] = []\n",
    "inp['14'] = []\n",
    "inp['15'] = []\n",
    "inp['16'] = []\n",
    "inp['17'] = []\n",
    "inp['18'] = []\n",
    "inp['19'] = []\n",
    "\n",
    "\n"
   ]
  },
  {
   "cell_type": "code",
   "execution_count": 163,
   "metadata": {},
   "outputs": [],
   "source": [
    "arr = np.zeros([0,20])\n",
    "row = np.array([0,1,2,3,4,5,6,7,7,8,9,10,11,12,13,14,15,16,17,18])\n",
    "arr = np.append(arr,[row],axis = 0)"
   ]
  },
  {
   "cell_type": "code",
   "execution_count": 164,
   "metadata": {},
   "outputs": [
    {
     "name": "stdout",
     "output_type": "stream",
     "text": [
      "[[ 0.  1.  2.  3.  4.  5.  6.  7.  7.  8.  9. 10. 11. 12. 13. 14. 15. 16.\n",
      "  17. 18.]]\n"
     ]
    }
   ],
   "source": [
    "print(arr)"
   ]
  },
  {
   "cell_type": "code",
   "execution_count": 169,
   "metadata": {},
   "outputs": [
    {
     "name": "stdout",
     "output_type": "stream",
     "text": [
      "[[ 0.  1.  2.  3.  4.  5.  6.  7.  7.  8.  9. 10. 11. 12. 13. 14. 15. 16.\n",
      "  17. 18.]\n",
      " [ 0.  1.  2.  3.  4.  5.  6.  7.  7.  8.  9. 10. 11. 12. 13. 14. 15. 16.\n",
      "  17. 18.]\n",
      " [ 0.  1.  2.  3.  4.  5.  6.  7.  7.  8.  9. 10. 11. 12. 13. 14. 15. 16.\n",
      "  17. 18.]]\n"
     ]
    }
   ],
   "source": [
    "row = np.array([0,1,2,3,4,5,6,7,7,8,9,10,11,12,13,14,15,16,17,18])\n",
    "arr = np.append(arr,[row],axis = 0)\n",
    "print(arr)"
   ]
  },
  {
   "cell_type": "code",
   "execution_count": 179,
   "metadata": {},
   "outputs": [],
   "source": [
    "arr.tofile('my_File.csv',sep=',',format='%10.5f')"
   ]
  },
  {
   "cell_type": "code",
   "execution_count": null,
   "metadata": {},
   "outputs": [],
   "source": []
  }
 ],
 "metadata": {
  "kernelspec": {
   "display_name": "Python 3 (ipykernel)",
   "language": "python",
   "name": "python3"
  },
  "language_info": {
   "codemirror_mode": {
    "name": "ipython",
    "version": 3
   },
   "file_extension": ".py",
   "mimetype": "text/x-python",
   "name": "python",
   "nbconvert_exporter": "python",
   "pygments_lexer": "ipython3",
   "version": "3.10.4"
  }
 },
 "nbformat": 4,
 "nbformat_minor": 4
}
