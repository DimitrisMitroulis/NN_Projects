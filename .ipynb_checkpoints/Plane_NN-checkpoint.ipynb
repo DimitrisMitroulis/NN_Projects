{
 "cells": [
  {
   "cell_type": "code",
   "execution_count": 1,
   "metadata": {},
   "outputs": [
    {
     "name": "stdout",
     "output_type": "stream",
     "text": [
      "Tensdorflow/Keras: 2.9.0\n"
     ]
    }
   ],
   "source": [
    "from tensorflow import keras\n",
    "print('Tensdorflow/Keras: %s' % keras.__version__)"
   ]
  },
  {
   "cell_type": "code",
   "execution_count": 2,
   "metadata": {},
   "outputs": [],
   "source": [
    "from keras.models import Sequential #For creating stack of layers\n",
    "from keras import Input\n",
    "from keras.layers import Dense #for creating densly-connected NN layers"
   ]
  },
  {
   "cell_type": "markdown",
   "metadata": {},
   "source": [
    "Data manipulation"
   ]
  },
  {
   "cell_type": "code",
   "execution_count": 3,
   "metadata": {},
   "outputs": [
    {
     "name": "stdout",
     "output_type": "stream",
     "text": [
      "pandas: 1.4.3\n",
      "numpy: 1.23.1\n"
     ]
    }
   ],
   "source": [
    "import pandas as pd # for data manipulation\n",
    "print('pandas: %s' % pd.__version__) # print version\n",
    "import numpy as np # for data manipulation\n",
    "print('numpy: %s' % np.__version__) # print version"
   ]
  },
  {
   "cell_type": "code",
   "execution_count": 4,
   "metadata": {},
   "outputs": [
    {
     "name": "stdout",
     "output_type": "stream",
     "text": [
      "sklearn: 1.1.1\n"
     ]
    }
   ],
   "source": [
    "import sklearn # for model evaluation\n",
    "print('sklearn: %s' % sklearn.__version__) # print version\n",
    "from sklearn.model_selection import train_test_split # for splitting data into train and test samples\n",
    "from sklearn.metrics import classification_report # for model evaluation metrics"
   ]
  },
  {
   "cell_type": "code",
   "execution_count": 74,
   "metadata": {},
   "outputs": [
    {
     "name": "stdout",
     "output_type": "stream",
     "text": [
      "plotly: 5.9.0\n"
     ]
    }
   ],
   "source": [
    "import plotly \n",
    "import plotly.express as px\n",
    "import plotly.graph_objects as go\n",
    "print('plotly: %s' % plotly.__version__) # print version\n",
    "import math"
   ]
  },
  {
   "cell_type": "markdown",
   "metadata": {},
   "source": [
    "### imprort csv file with outputs"
   ]
  },
  {
   "cell_type": "code",
   "execution_count": 51,
   "metadata": {},
   "outputs": [],
   "source": [
    "outputs = pd.read_csv('PythonScripts/outputs.csv', encoding = 'utf-8')\n",
    "outputs = outputs.reset_index()"
   ]
  },
  {
   "cell_type": "markdown",
   "metadata": {},
   "source": [
    "This loop takes elemexnt with index **start** to element with index **end** and inserts the in a new row, adds the x+21 value in the outputs array"
   ]
  },
  {
   "cell_type": "code",
   "execution_count": 65,
   "metadata": {},
   "outputs": [],
   "source": [
    "#create input and output arrays\n",
    "#array that gets filled row-row in each loop\n",
    "Inputs = np.zeros([0,20])\n",
    "Outputs= np.array([])\n",
    "\n",
    "\n",
    "\n",
    "#fill each row in the inner loop \n",
    "row = np.array([])\n",
    "\n"
   ]
  },
  {
   "cell_type": "markdown",
   "metadata": {},
   "source": [
    "- Outer loop: Loops through each row in the outputs.csv file\n",
    "- Inner loop: Takes from index _start_ to index _end_ and puts all these values in a row in the **arr** array"
   ]
  },
  {
   "cell_type": "code",
   "execution_count": 72,
   "metadata": {},
   "outputs": [
    {
     "name": "stdout",
     "output_type": "stream",
     "text": [
      "(387, 20)\n"
     ]
    }
   ],
   "source": [
    "Inputs = np.zeros([0,20])\n",
    "row = np.array([])\n",
    "\n",
    "\n",
    "#pointers to point start and end of the array, essentially the number of inputs \n",
    "start = 0\n",
    "end = 20\n",
    "out_var = 21\n",
    "\n",
    "for index,rows in outputs.iterrows():       \n",
    "    for x in range(start,end):\n",
    "        value = (outputs.loc[x])[1]\n",
    "        row=np.append(row,[value],axis = 0) \n",
    "        \n",
    "        #get the x th element in the dataframe\n",
    "        #print((outputs.loc[x])[1])\n",
    "    \n",
    "    print(outputs.loc[out_var])\n",
    "    start+=1\n",
    "    end+=1\n",
    "    out_var+=1\n",
    "    Inputs = np.append(arr,[row],axis = 0)\n",
    "    \n",
    "    #Outputs = np.append(Outputs,[(outputs.loc[x+1])[1]])\n",
    "    row = np.array([])\n",
    "    \n",
    "    \n",
    "    \n",
    "    if output_var >= len(outputs):\n",
    "        break\n",
    "    \n",
    "print(np.shape(Inputs))   "
   ]
  },
  {
   "cell_type": "markdown",
   "metadata": {},
   "source": [
    "Split to testing and training data"
   ]
  },
  {
   "cell_type": "code",
   "execution_count": 81,
   "metadata": {},
   "outputs": [],
   "source": [
    "TwoThrirds = math.floor((len(Inputs))*0.7)\n",
    "\n",
    "train_inp, test_inp = Inputs[:TwoThrirds,:], Inputs[TwoThrirds:,:]\n",
    "train_out, test_outp = Outputs[:TwoThrirds,:], Outputs[TwoThrirds:,:]"
   ]
  },
  {
   "cell_type": "code",
   "execution_count": 84,
   "metadata": {},
   "outputs": [
    {
     "data": {
      "text/plain": [
       "(270, 20)"
      ]
     },
     "execution_count": 84,
     "metadata": {},
     "output_type": "execute_result"
    }
   ],
   "source": []
  },
  {
   "cell_type": "code",
   "execution_count": 85,
   "metadata": {},
   "outputs": [
    {
     "data": {
      "text/plain": [
       "(117, 20)"
      ]
     },
     "execution_count": 85,
     "metadata": {},
     "output_type": "execute_result"
    }
   ],
   "source": []
  },
  {
   "cell_type": "code",
   "execution_count": null,
   "metadata": {},
   "outputs": [],
   "source": []
  }
 ],
 "metadata": {
  "kernelspec": {
   "display_name": "Python 3 (ipykernel)",
   "language": "python",
   "name": "python3"
  },
  "language_info": {
   "codemirror_mode": {
    "name": "ipython",
    "version": 3
   },
   "file_extension": ".py",
   "mimetype": "text/x-python",
   "name": "python",
   "nbconvert_exporter": "python",
   "pygments_lexer": "ipython3",
   "version": "3.10.4"
  }
 },
 "nbformat": 4,
 "nbformat_minor": 4
}
